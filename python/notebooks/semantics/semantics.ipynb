{
 "cells": [
  {
   "cell_type": "markdown",
   "id": "63533cbe",
   "metadata": {},
   "source": [
    "## Preprocessing and EDA "
   ]
  },
  {
   "cell_type": "markdown",
   "id": "9111e432",
   "metadata": {},
   "source": [
    "### Load"
   ]
  },
  {
   "cell_type": "code",
   "execution_count": 833,
   "id": "8d20d100",
   "metadata": {},
   "outputs": [],
   "source": [
    "import os\n",
    "from dotenv import load_dotenv\n",
    "import pandas as pd\n",
    "from twarc import Twarc2, expansions\n",
    "from tweet_processing import StreamTweetProcessor\n",
    "\n",
    "import matplotlib.pyplot as plt\n",
    "import numpy as np"
   ]
  },
  {
   "cell_type": "code",
   "execution_count": 834,
   "id": "e7dbbc55-06fe-4c1f-aa4b-4aa2625bd554",
   "metadata": {},
   "outputs": [
    {
     "name": "stderr",
     "output_type": "stream",
     "text": [
      "/var/folders/6v/v3k0ftn92ld7ss4w20w4t8480000gn/T/ipykernel_60479/2303052575.py:18: DtypeWarning: Columns (45,46,55,62,63,64,65,66,67,68,69,70) have mixed types.Specify dtype option on import or set low_memory=False.\n",
      "  [f, t, r] = tp.load_stream_seed_data(g)\n"
     ]
    }
   ],
   "source": [
    "load_dotenv()\n",
    "\n",
    "data_dir=\"../stream-seeding/data\" \n",
    "twarc_client = Twarc2(\n",
    "    consumer_key=os.environ[\"consumer_key\"], \n",
    "    consumer_secret=os.environ[\"consumer_secret\"],\n",
    "    access_token=os.environ[\"access_token\"], \n",
    "    access_token_secret=os.environ[\"access_token_secret\"]\n",
    ")\n",
    "\n",
    "tp = StreamTweetProcessor(twarc_client=twarc_client, data_dir=data_dir)\n",
    "\n",
    "groups = [\"longevity-pranab\", \"CA-Abundance-Economy\"]\n",
    "following, tweets, refs  = [], [], []\n",
    "dfs = [following, tweets, refs]\n",
    "\n",
    "for g in groups: \n",
    "    [f, t, r] = tp.load_stream_seed_data(g)\n",
    "    refs.append(r), tweets.append(t) , following.append(f)\n",
    "\n",
    "dfs = [pd.concat(df) for df in dfs]\n",
    "df_following, df_tweets, df_refs = dfs"
   ]
  },
  {
   "cell_type": "markdown",
   "id": "b354bd72",
   "metadata": {},
   "source": [
    "### Peek"
   ]
  },
  {
   "cell_type": "code",
   "execution_count": 835,
   "id": "607c8d09",
   "metadata": {},
   "outputs": [
    {
     "name": "stderr",
     "output_type": "stream",
     "text": [
      "/var/folders/6v/v3k0ftn92ld7ss4w20w4t8480000gn/T/ipykernel_60479/3915289773.py:2: SettingWithCopyWarning: \n",
      "A value is trying to be set on a copy of a slice from a DataFrame.\n",
      "Try using .loc[row_indexer,col_indexer] = value instead\n",
      "\n",
      "See the caveats in the documentation: https://pandas.pydata.org/pandas-docs/stable/user_guide/indexing.html#returning-a-view-versus-a-copy\n",
      "  df_tweets['created_at'] = pd.to_datetime(df_tweets['created_at'])\n"
     ]
    },
    {
     "data": {
      "text/html": [
       "<div>\n",
       "<style scoped>\n",
       "    .dataframe tbody tr th:only-of-type {\n",
       "        vertical-align: middle;\n",
       "    }\n",
       "\n",
       "    .dataframe tbody tr th {\n",
       "        vertical-align: top;\n",
       "    }\n",
       "\n",
       "    .dataframe thead th {\n",
       "        text-align: right;\n",
       "    }\n",
       "</style>\n",
       "<table border=\"1\" class=\"dataframe\">\n",
       "  <thead>\n",
       "    <tr style=\"text-align: right;\">\n",
       "      <th></th>\n",
       "      <th>id</th>\n",
       "      <th>text</th>\n",
       "      <th>author_id</th>\n",
       "      <th>author.username</th>\n",
       "      <th>created_at</th>\n",
       "      <th>public_metrics.like_count</th>\n",
       "      <th>public_metrics.quote_count</th>\n",
       "      <th>public_metrics.reply_count</th>\n",
       "      <th>public_metrics.retweet_count</th>\n",
       "      <th>attachments.media</th>\n",
       "      <th>attachments.media_keys</th>\n",
       "    </tr>\n",
       "  </thead>\n",
       "  <tbody>\n",
       "    <tr>\n",
       "      <th>49</th>\n",
       "      <td>1491586455268827137</td>\n",
       "      <td>One of my favorite things to do is pretend I'm...</td>\n",
       "      <td>301427990</td>\n",
       "      <td>LauraDeming</td>\n",
       "      <td>2022-02-10 01:34:57+00:00</td>\n",
       "      <td>128</td>\n",
       "      <td>0</td>\n",
       "      <td>9</td>\n",
       "      <td>9</td>\n",
       "      <td>[{\"media_key\": \"3_1491574214108717059\", \"type\"...</td>\n",
       "      <td>[\"3_1491574214108717059\"]</td>\n",
       "    </tr>\n",
       "    <tr>\n",
       "      <th>70</th>\n",
       "      <td>1481617637801136136</td>\n",
       "      <td>The Italians in 1545 were *really* excited abo...</td>\n",
       "      <td>301427990</td>\n",
       "      <td>LauraDeming</td>\n",
       "      <td>2022-01-13 13:22:26+00:00</td>\n",
       "      <td>372</td>\n",
       "      <td>3</td>\n",
       "      <td>15</td>\n",
       "      <td>30</td>\n",
       "      <td>[{\"type\": \"photo\", \"url\": \"https://pbs.twimg.c...</td>\n",
       "      <td>[\"3_1481617594562007043\"]</td>\n",
       "    </tr>\n",
       "    <tr>\n",
       "      <th>72</th>\n",
       "      <td>1479586908900663307</td>\n",
       "      <td>I liked this - poetry should induce a physical...</td>\n",
       "      <td>301427990</td>\n",
       "      <td>LauraDeming</td>\n",
       "      <td>2022-01-07 22:53:03+00:00</td>\n",
       "      <td>46</td>\n",
       "      <td>1</td>\n",
       "      <td>4</td>\n",
       "      <td>4</td>\n",
       "      <td>[{\"type\": \"photo\", \"url\": \"https://pbs.twimg.c...</td>\n",
       "      <td>[\"3_1479586425582624768\"]</td>\n",
       "    </tr>\n",
       "    <tr>\n",
       "      <th>76</th>\n",
       "      <td>1476555253755568132</td>\n",
       "      <td>Fun puzzle: stare at the abundance of elements...</td>\n",
       "      <td>301427990</td>\n",
       "      <td>LauraDeming</td>\n",
       "      <td>2021-12-30 14:06:20+00:00</td>\n",
       "      <td>43</td>\n",
       "      <td>0</td>\n",
       "      <td>6</td>\n",
       "      <td>3</td>\n",
       "      <td>[{\"media_key\": \"3_1476555103398244353\", \"heigh...</td>\n",
       "      <td>[\"3_1476555103398244353\"]</td>\n",
       "    </tr>\n",
       "    <tr>\n",
       "      <th>83</th>\n",
       "      <td>1475575388386603013</td>\n",
       "      <td>One bio experiment I love is slowing down temp...</td>\n",
       "      <td>301427990</td>\n",
       "      <td>LauraDeming</td>\n",
       "      <td>2021-12-27 21:12:42+00:00</td>\n",
       "      <td>168</td>\n",
       "      <td>1</td>\n",
       "      <td>16</td>\n",
       "      <td>7</td>\n",
       "      <td>[{\"url\": \"https://pbs.twimg.com/media/FHpLvUjX...</td>\n",
       "      <td>[\"3_1475575104260259841\"]</td>\n",
       "    </tr>\n",
       "  </tbody>\n",
       "</table>\n",
       "</div>"
      ],
      "text/plain": [
       "                     id                                               text  \\\n",
       "49  1491586455268827137  One of my favorite things to do is pretend I'm...   \n",
       "70  1481617637801136136  The Italians in 1545 were *really* excited abo...   \n",
       "72  1479586908900663307  I liked this - poetry should induce a physical...   \n",
       "76  1476555253755568132  Fun puzzle: stare at the abundance of elements...   \n",
       "83  1475575388386603013  One bio experiment I love is slowing down temp...   \n",
       "\n",
       "    author_id author.username                created_at  \\\n",
       "49  301427990     LauraDeming 2022-02-10 01:34:57+00:00   \n",
       "70  301427990     LauraDeming 2022-01-13 13:22:26+00:00   \n",
       "72  301427990     LauraDeming 2022-01-07 22:53:03+00:00   \n",
       "76  301427990     LauraDeming 2021-12-30 14:06:20+00:00   \n",
       "83  301427990     LauraDeming 2021-12-27 21:12:42+00:00   \n",
       "\n",
       "    public_metrics.like_count  public_metrics.quote_count  \\\n",
       "49                        128                           0   \n",
       "70                        372                           3   \n",
       "72                         46                           1   \n",
       "76                         43                           0   \n",
       "83                        168                           1   \n",
       "\n",
       "    public_metrics.reply_count  public_metrics.retweet_count  \\\n",
       "49                           9                             9   \n",
       "70                          15                            30   \n",
       "72                           4                             4   \n",
       "76                           6                             3   \n",
       "83                          16                             7   \n",
       "\n",
       "                                    attachments.media  \\\n",
       "49  [{\"media_key\": \"3_1491574214108717059\", \"type\"...   \n",
       "70  [{\"type\": \"photo\", \"url\": \"https://pbs.twimg.c...   \n",
       "72  [{\"type\": \"photo\", \"url\": \"https://pbs.twimg.c...   \n",
       "76  [{\"media_key\": \"3_1476555103398244353\", \"heigh...   \n",
       "83  [{\"url\": \"https://pbs.twimg.com/media/FHpLvUjX...   \n",
       "\n",
       "       attachments.media_keys  \n",
       "49  [\"3_1491574214108717059\"]  \n",
       "70  [\"3_1481617594562007043\"]  \n",
       "72  [\"3_1479586425582624768\"]  \n",
       "76  [\"3_1476555103398244353\"]  \n",
       "83  [\"3_1475575104260259841\"]  "
      ]
     },
     "execution_count": 835,
     "metadata": {},
     "output_type": "execute_result"
    }
   ],
   "source": [
    "df_tweets = df_tweets[['id', 'text', 'author_id', 'author.username', 'created_at', 'public_metrics.like_count', 'public_metrics.quote_count', 'public_metrics.reply_count', 'public_metrics.retweet_count','attachments.media','attachments.media_keys']]\n",
    "df_tweets['created_at'] = pd.to_datetime(df_tweets['created_at'])\n",
    "\n",
    "# ensure consistency in id/name\n",
    "assert df_tweets.author_id.value_counts().to_list() ==  df_tweets[\"author.username\"].value_counts().to_list()\n",
    "df_tweets.dropna().head()"
   ]
  },
  {
   "cell_type": "code",
   "execution_count": 836,
   "id": "1697b23d",
   "metadata": {},
   "outputs": [
    {
     "name": "stdout",
     "output_type": "stream",
     "text": [
      "Percentage of tweets without media: 87.46%\n"
     ]
    }
   ],
   "source": [
    "# Counting \"pure\" tweets\n",
    "# TODO: include retweets, urls\n",
    "# TODO: use df_tweets.entities.mentions.usernames to exemot from preprocessing\n",
    "\n",
    "n = df_tweets['attachments.media'].isna().sum()/df_tweets.shape[0]\n",
    "print(f\"Percentage of tweets without media: {n:.2%}\")"
   ]
  },
  {
   "cell_type": "code",
   "execution_count": 837,
   "id": "f0d2810e",
   "metadata": {},
   "outputs": [],
   "source": [
    "# Get tweets from 301427990\n",
    "authors = df_tweets['author.username'].value_counts().to_dict()\n",
    "\n",
    "for author in authors.keys():\n",
    "    # Get tweet indices\n",
    "    authors[author] = df_tweets[df_tweets['author.username'] == author].index.to_list()"
   ]
  },
  {
   "cell_type": "markdown",
   "id": "3464de5e",
   "metadata": {},
   "source": [
    "# Preprocessing"
   ]
  },
  {
   "cell_type": "code",
   "execution_count": 838,
   "id": "edbd8a27",
   "metadata": {},
   "outputs": [
    {
     "data": {
      "text/plain": [
       "(17550,\n",
       " array([\"I'd like to have fluency with basic game theory well enough to have intuition for the situations presented in Parfit's 'Reasons and Persons'. Any suggestions for a text or tutor?\\\\n\\\\nWant to build really strong, simple intuitions to go with the relevant equations - nothing fancy.\",\n",
       "        'I wish there was a Serious Eats but for bio protocols.',\n",
       "        \"Half of it reads like a modern Medium post, the other half contains such wisdom as\\\\n\\\\n'You should not buy a donkey which brays; it will split (?) your midriff (?).'\\\\n\\\\n'You should not pass judgment when you drink beer.'\\\\n\\\\n'Fate is a wet bank; it can make one slip.'\"],\n",
       "       dtype=object))"
      ]
     },
     "execution_count": 838,
     "metadata": {},
     "output_type": "execute_result"
    }
   ],
   "source": [
    "from sklearn.feature_extraction.text import CountVectorizer, TfidfVectorizer\n",
    "\n",
    "tweets = df_tweets.text.values\n",
    "\n",
    "len(tweets), tweets[:3]"
   ]
  },
  {
   "cell_type": "code",
   "execution_count": 839,
   "id": "df4362e1",
   "metadata": {},
   "outputs": [
    {
     "data": {
      "text/plain": [
       "(\"thanks @michael_nielsen for pointing out that many of the first books in history were generic self-help advice pieces, and that i was thus joining a long and venerable tradition.  although i'm not sure one can beat gems from 'instructions of shuruppag'. \",\n",
       " \"Thanks @michael_nielsen for pointing out that many of the first books in history were generic self-help advice pieces, and that I was thus joining a long and venerable tradition.\\\\n\\\\nAlthough I'm not sure one can beat gems from 'instructions of Shuruppag'.\\\\nhttps://t.co/e5Wacy1AIz\")"
      ]
     },
     "execution_count": 839,
     "metadata": {},
     "output_type": "execute_result"
    }
   ],
   "source": [
    "import re\n",
    "\n",
    "def preprocess(text):\n",
    "    text = text.lower()\n",
    "    # replace first \\n with space\n",
    "    text = re.sub(r'http\\S+', '', text)\n",
    "    text = re.sub(r'\\\\n', ' ', text)\n",
    "    \n",
    "    # remove unicode characters, except @ and #\n",
    "    text = re.sub(r'[^\\x00-\\x7f]',r' ', text)\n",
    "\n",
    "    return text\n",
    "\n",
    "t = 3\n",
    "preprocess(tweets[t]), tweets[t]"
   ]
  },
  {
   "cell_type": "code",
   "execution_count": 840,
   "id": "9b75a40e",
   "metadata": {},
   "outputs": [
    {
     "data": {
      "text/plain": [
       "((17550, 27051), (17550, 27051))"
      ]
     },
     "execution_count": 840,
     "metadata": {},
     "output_type": "execute_result"
    }
   ],
   "source": [
    "# Tokenize tweets\n",
    "# TODO: investigate nltk vs inbuilt stop_words\n",
    "# TODO: handle @mentions :: named entity recog?\n",
    "\n",
    "vectorizer = CountVectorizer(strip_accents = 'unicode', stop_words='english', preprocessor=preprocess)\n",
    "X = vectorizer.fit_transform(tweets)\n",
    "\n",
    "# tfidf on tweets\n",
    "tfidf_vectorizer = TfidfVectorizer(strip_accents = 'unicode', stop_words='english', preprocessor=preprocess)\n",
    "tfidf = tfidf_vectorizer.fit_transform(tweets)\n",
    "\n",
    "tfidf.shape, X.shape"
   ]
  },
  {
   "cell_type": "code",
   "execution_count": 841,
   "id": "aa5cfd51",
   "metadata": {},
   "outputs": [],
   "source": [
    "# TODO: How similar are tweets from same author? \n",
    "author_docs = dict.fromkeys(authors.keys(), [])\n",
    "\n",
    "for author in authors.keys():\n",
    "    # Sum and average tfidf vectors for each author\n",
    "    mat = tfidf[authors[author], :].sum(axis=0)\n",
    "    author_docs[author] = np.squeeze(np.asarray(mat))"
   ]
  },
  {
   "cell_type": "code",
   "execution_count": 842,
   "id": "d27e17d8",
   "metadata": {},
   "outputs": [],
   "source": [
    "# measure distance between tweets\n",
    "from sklearn.metrics.pairwise import cosine_similarity, euclidean_distances\n",
    "\n",
    "docs = np.vstack(list(author_docs.values()))\n",
    "\n",
    "# similarity matrices\n",
    "cosine = cosine_similarity(docs)\n",
    "euclidean = euclidean_distances(docs)"
   ]
  },
  {
   "cell_type": "code",
   "execution_count": 843,
   "id": "7b05fa2d",
   "metadata": {},
   "outputs": [
    {
     "name": "stdout",
     "output_type": "stream",
     "text": [
      "0.7840651327700154 celinehalioua\n",
      "0.8365077214987147 ArtirKel\n",
      "0.6305665227589095 anniefryman\n",
      "0.999999999999998 rklau\n",
      "0.7197753867691689 hanlonbt\n",
      "0.602255992067383 LauraDeming\n"
     ]
    },
    {
     "data": {
      "text/plain": [
       "['ArtirKel', 'celinehalioua', 'hanlonbt']"
      ]
     },
     "execution_count": 843,
     "metadata": {},
     "output_type": "execute_result"
    }
   ],
   "source": [
    "def most_similar(author :int, sim_mat: np.array, n = 2):\n",
    "    # return most similar author\n",
    "    i = list(author_docs.keys()).index(author)\n",
    "    \n",
    "    v = sim_mat[i, :]\n",
    "\n",
    "    if sim_mat.min() == 0:\n",
    "        # Euclidean\n",
    "        v = np.argsort(v)\n",
    "    else:\n",
    "        # Cosine\n",
    "        v = np.argsort(v)[::-1]\n",
    "\n",
    "    auth_idxs = v[1:n+1]\n",
    "    auths = [list(author_docs.keys())[i] for i in auth_idxs]\n",
    "    \n",
    "    return auths\n",
    "\n",
    "long_users = ['celinehalioua', 'ArtirKel', 'LauraDeming']\n",
    "ca_users = ['anniefryman', 'rklau', 'hanlonbt' ]\n",
    "\n",
    "# sanity check\n",
    "for a in author_docs.keys():\n",
    "    x = np.vstack([author_docs['rklau'], author_docs[a]])\n",
    "\n",
    "    # Cosine similarity\n",
    "    print(cosine_similarity(x)[0,1], a)\n",
    "\n",
    "most_similar('rklau', cosine, 3)"
   ]
  },
  {
   "cell_type": "code",
   "execution_count": 844,
   "id": "1212425e",
   "metadata": {},
   "outputs": [
    {
     "data": {
      "text/plain": [
       "1"
      ]
     },
     "execution_count": 844,
     "metadata": {},
     "output_type": "execute_result"
    }
   ],
   "source": [
    "def completion_accuracy(source_acc: str, recs: list):\n",
    "    # source_acc = account to recommend from\n",
    "    # recs = list of recommended accounts\n",
    "    # returns TP count\n",
    "\n",
    "    if source_acc in long_users:\n",
    "        target_set = set(long_users)\n",
    "    elif source_acc in ca_users:\n",
    "        target_set = set(ca_users)\n",
    "    else:\n",
    "        raise ValueError(\"source_acc not in any set\")\n",
    "    \n",
    "    target_set.remove(source_acc)\n",
    "    tp = len(set(recs).intersection(target_set))\n",
    "    return tp\n",
    "\n",
    "completion_accuracy('rklau', most_similar('rklau', cosine, 3))"
   ]
  },
  {
   "cell_type": "code",
   "execution_count": 845,
   "id": "406ca9ce",
   "metadata": {},
   "outputs": [
    {
     "data": {
      "text/plain": [
       "0.4"
      ]
     },
     "execution_count": 845,
     "metadata": {},
     "output_type": "execute_result"
    }
   ],
   "source": [
    "from math import perm\n",
    "from itertools import permutations\n",
    "\n",
    "# Generalises to n authors\n",
    "def random_acc(n_authors: int, n_recs: int) -> float:\n",
    "    # Return accuracy of random assignment\n",
    "    # eg P(1/2 correct AND 2/2 correct) = 1 - P(0/2 correct) = 1 - (n-r)/n\n",
    "\n",
    "    # Total authors to recommend from, exempting source\n",
    "    n = n_authors - 1\n",
    "    # Number of recommendations to make\n",
    "    r = n_recs\n",
    "\n",
    "    return 1 - (n - r)/n\n",
    "\n",
    "    # i is number of true positives\n",
    "    p_0 = 0\n",
    "    for i in range(1, r+1):\n",
    "\n",
    "        base_arr = np.zeros(r)\n",
    "        base_arr[:i] = 1\n",
    "\n",
    "        perms = list(set(permutations(base_arr, r)))\n",
    "\n",
    "        p_1 = 0\n",
    "        for permutation in perms: \n",
    "            p_2 = 1\n",
    "            for idx,p in enumerate(permutation):\n",
    "                if p == 1:\n",
    "                    p_2 *= 1/(n-idx)\n",
    "                elif p == 0:\n",
    "                    p_2 *= (n-idx-1)/(n-idx)\n",
    "            p_1 += p_2\n",
    "        p_0 += p_1\n",
    "\n",
    "    return p_0\n",
    "\n",
    "\n",
    "random_acc(6, 2)"
   ]
  },
  {
   "cell_type": "code",
   "execution_count": 858,
   "id": "b9b0a0cd",
   "metadata": {},
   "outputs": [
    {
     "name": "stdout",
     "output_type": "stream",
     "text": [
      "Similarity  | anniefryman -> ['ArtirKel', 'rklau'] : 1\n",
      "Random      | anniefryman -> ['celinehalioua', 'ArtirKel'] : 0 \n",
      "\n",
      "Similarity  | rklau -> ['ArtirKel', 'celinehalioua'] : 0\n",
      "Random      | rklau -> ['hanlonbt', 'LauraDeming'] : 1 \n",
      "\n",
      "Similarity  | hanlonbt -> ['celinehalioua', 'LauraDeming'] : 0\n",
      "Random      | hanlonbt -> ['ArtirKel', 'rklau'] : 1 \n",
      "\n",
      "Similarity  | celinehalioua -> ['hanlonbt', 'rklau'] : 0\n",
      "Random      | celinehalioua -> ['ArtirKel', 'LauraDeming'] : 2 \n",
      "\n",
      "Similarity  | ArtirKel -> ['rklau', 'anniefryman'] : 0\n",
      "Random      | ArtirKel -> ['LauraDeming', 'hanlonbt'] : 1 \n",
      "\n",
      "Similarity  | LauraDeming -> ['hanlonbt', 'celinehalioua'] : 1\n",
      "Random      | LauraDeming -> ['hanlonbt', 'rklau'] : 0 \n",
      "\n",
      "Accuracy for 2 recommendations\n",
      "\t Doc-Term Similarity Recommendation: 16.67%\n",
      "\t (Empirical) Random Assignment: 41.67%\n",
      "\t (Analytical) Random Assignment: 40.00%\n"
     ]
    }
   ],
   "source": [
    "def accuracy(accounts: list, sim_mat, n_rec = 3, show_outputs = False):\n",
    "    accs = []\n",
    "    for rec in range(1, n_rec+1):\n",
    "        tp = 0\n",
    "        rand_p = 0\n",
    "        n_acc = len(accounts)\n",
    "        \n",
    "        # each account(acc) is a seed for rec(int) account recommendations\n",
    "        for acc in accounts:\n",
    "            \n",
    "            # create a list of rec(int) accounts\n",
    "            recs = most_similar(acc, sim_mat, n=rec)\n",
    "            # measure hit rate\n",
    "            hits = completion_accuracy(acc, recs)\n",
    "\n",
    "            rand_recs = [accounts[i] for i in np.random.choice(n_acc, rec, replace=False)]\n",
    "            while acc in rand_recs:\n",
    "                rand_recs = [accounts[i] for i in np.random.choice(n_acc, rec, replace=False)]\n",
    "            rand_hits = completion_accuracy(acc, rand_recs)\n",
    "            \n",
    "            if rec == 2:\n",
    "                print(f\"Similarity  | {acc} -> {recs} : {hits}\")\n",
    "                print(f\"Random      | {acc} -> {rand_recs} : {rand_hits} \\n\")\n",
    "\n",
    "            tp += hits\n",
    "            rand_p += rand_hits\n",
    "        \n",
    "        accuracy = tp/(2*n_acc)\n",
    "        accs.append(accuracy)\n",
    "        rand_accuracy = rand_p/(2*n_acc)\n",
    "\n",
    "        if show_outputs or rec == 2:\n",
    "            print(f\"Accuracy for {rec} recommendation{'s' if rec > 1 else ''}\")\n",
    "            print(f\"\\t Doc-Term Similarity Recommendation: {accuracy:.2%}\")\n",
    "            print(f\"\\t (Empirical) Random Assignment: {rand_accuracy:.2%}\")\n",
    "            print(f\"\\t (Analytical) Random Assignment: {random_acc(len(accounts),rec):.2%}\")\n",
    "    return accs\n",
    "\n",
    "\n",
    "accounts = ca_users + long_users\n",
    "cosine_accuracies = accuracy(accounts, sim_mat = cosine, n_rec = 5)"
   ]
  },
  {
   "cell_type": "code",
   "execution_count": 859,
   "id": "b9a7d14c",
   "metadata": {},
   "outputs": [
    {
     "name": "stdout",
     "output_type": "stream",
     "text": [
      "Similarity  | anniefryman -> ['ArtirKel', 'rklau'] : 1\n",
      "Random      | anniefryman -> ['hanlonbt', 'LauraDeming'] : 1 \n",
      "\n",
      "Similarity  | rklau -> ['ArtirKel', 'celinehalioua'] : 0\n",
      "Random      | rklau -> ['ArtirKel', 'anniefryman'] : 1 \n",
      "\n",
      "Similarity  | hanlonbt -> ['celinehalioua', 'LauraDeming'] : 0\n",
      "Random      | hanlonbt -> ['anniefryman', 'LauraDeming'] : 1 \n",
      "\n",
      "Similarity  | celinehalioua -> ['hanlonbt', 'rklau'] : 0\n",
      "Random      | celinehalioua -> ['hanlonbt', 'LauraDeming'] : 1 \n",
      "\n",
      "Similarity  | ArtirKel -> ['rklau', 'anniefryman'] : 0\n",
      "Random      | ArtirKel -> ['hanlonbt', 'rklau'] : 0 \n",
      "\n",
      "Similarity  | LauraDeming -> ['hanlonbt', 'rklau'] : 0\n",
      "Random      | LauraDeming -> ['ArtirKel', 'celinehalioua'] : 2 \n",
      "\n",
      "Accuracy for 2 recommendations\n",
      "\t Doc-Term Similarity Recommendation: 8.33%\n",
      "\t (Empirical) Random Assignment: 50.00%\n",
      "\t (Analytical) Random Assignment: 40.00%\n"
     ]
    }
   ],
   "source": [
    "euclidean_accuracies = accuracy(accounts, sim_mat = euclidean, n_rec = 5)"
   ]
  },
  {
   "cell_type": "code",
   "execution_count": 856,
   "id": "0cc6945b",
   "metadata": {},
   "outputs": [
    {
     "data": {
      "image/png": "[encoded data removed]",
      "text/plain": [
       "<Figure size 432x288 with 1 Axes>"
      ]
     },
     "metadata": {
      "needs_background": "light"
     },
     "output_type": "display_data"
    }
   ],
   "source": [
    "# See how accuracy scales with n\n",
    "n_authors = 6\n",
    "n_recs = range(1, n_authors)\n",
    "\n",
    "random_accs = [random_acc(n_authors, n) for n in n_recs]\n",
    "\n",
    "# plot\n",
    "plt.plot(n_recs, random_accs, label = 'Random Assignment')\n",
    "# plot docterm accuracy\n",
    "plt.plot(n_recs, euclidean_accuracies, label='Doc-Term Similarity (Euclidean)')\n",
    "plt.plot(n_recs, cosine_accuracies, label='Doc-Term Similarity (Cosine)')\n",
    "\n",
    "plt.xlabel('Number of recommendations')\n",
    "plt.ylabel('Accuracy')\n",
    "plt.title(f\"Accuracy of Recommendation \\n n_authors = {n_authors}\")\n",
    "\n",
    "\n",
    "plt.legend()\n",
    "plt.show()"
   ]
  },
  {
   "cell_type": "code",
   "execution_count": 850,
   "id": "b6d119de",
   "metadata": {},
   "outputs": [
    {
     "data": {
      "image/png": "[encoded data removed]",
      "text/plain": [
       "<Figure size 432x288 with 1 Axes>"
      ]
     },
     "metadata": {
      "needs_background": "light"
     },
     "output_type": "display_data"
    }
   ],
   "source": [
    "# See how accuracy scales with n_authors\n",
    "n_authors = np.linspace(3, 100)\n",
    "n_recs = 2\n",
    "\n",
    "random_accs = [random_acc(n, n_recs) for n in n_authors]\n",
    "\n",
    "plt.plot(n_authors, random_accs, label = 'Random Assignment')\n",
    "plt.xlabel('Number of authors')\n",
    "plt.ylabel('Accuracy')\n",
    "plt.title(f\"Accuracy of Recommendation \\n n_recs = {n_recs}\")\n",
    "plt.legend()\n",
    "plt.show()"
   ]
  }
 ],
 "metadata": {
  "kernelspec": {
   "display_name": "Python 3.9.7 ('base')",
   "language": "python",
   "name": "python3"
  },
  "language_info": {
   "codemirror_mode": {
    "name": "ipython",
    "version": 3
   },
   "file_extension": ".py",
   "mimetype": "text/x-python",
   "name": "python",
   "nbconvert_exporter": "python",
   "pygments_lexer": "ipython3",
   "version": "3.9.7"
  },
  "vscode": {
   "interpreter": {
    "hash": "17114df6d96c3e1cb60efbd1ebfe6c037166772d51ada9a279fe71a9eeac778c"
   }
  }
 },
 "nbformat": 4,
 "nbformat_minor": 5
}
